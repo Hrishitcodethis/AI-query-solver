{
 "cells": [
  {
   "cell_type": "code",
   "execution_count": 2,
   "id": "a30aca0c",
   "metadata": {},
   "outputs": [],
   "source": [
    "import duckdb"
   ]
  },
  {
   "cell_type": "code",
   "execution_count": 3,
   "id": "4842119e",
   "metadata": {},
   "outputs": [
    {
     "name": "stdout",
     "output_type": "stream",
     "text": [
      "Complete TPC-H dataset saved to 'complete_tpch.db'\n"
     ]
    },
    {
     "data": {
      "text/plain": [
       "[('customer',),\n",
       " ('lineitem',),\n",
       " ('nation',),\n",
       " ('orders',),\n",
       " ('part',),\n",
       " ('partsupp',),\n",
       " ('region',),\n",
       " ('supplier',)]"
      ]
     },
     "execution_count": 3,
     "metadata": {},
     "output_type": "execute_result"
    }
   ],
   "source": [
    "# Create persistent database file with ALL tables\n",
    "con = duckdb.connect('complete_tpch.db')  # This will contain everything\n",
    "con.execute(\"CALL dbgen(sf=0.5);\")       # Generates all 8 tables\n",
    "con.close()  # Saves everything to file\n",
    "\n",
    "print(\"Complete TPC-H dataset saved to 'complete_tpch.db'\")\n",
    "\n",
    "# Later usage - just connect and all tables are there:\n",
    "con = duckdb.connect('complete_tpch.db')\n",
    "con.execute(\"SHOW TABLES;\").fetchall()  # Shows all 8 tables"
   ]
  },
  {
   "cell_type": "code",
   "execution_count": 1,
   "id": "5b23610e",
   "metadata": {},
   "outputs": [
    {
     "name": "stdout",
     "output_type": "stream",
     "text": [
      "[('call_center',), ('catalog_page',), ('catalog_returns',), ('catalog_sales',), ('customer',), ('customer_address',), ('customer_demographics',), ('date_dim',), ('household_demographics',), ('income_band',), ('inventory',), ('item',), ('promotion',), ('reason',), ('ship_mode',), ('store',), ('store_returns',), ('store_sales',), ('time_dim',), ('warehouse',), ('web_page',), ('web_returns',), ('web_sales',), ('web_site',)]\n"
     ]
    }
   ],
   "source": [
    "import duckdb\n",
    "\n",
    "con = duckdb.connect(\"tpchds.db\")\n",
    "\n",
    "# Generate TPC-DS schema with 0.5 scale factor\n",
    "con.execute(\"CALL dsdgen(sf=0.5);\")\n",
    "\n",
    "print(con.execute(\"SHOW TABLES;\").fetchall())\n",
    "con.close()"
   ]
  },
  {
   "cell_type": "code",
   "execution_count": null,
   "id": "59cc418a",
   "metadata": {},
   "outputs": [],
   "source": []
  }
 ],
 "metadata": {
  "kernelspec": {
   "display_name": "Python 3",
   "language": "python",
   "name": "python3"
  },
  "language_info": {
   "codemirror_mode": {
    "name": "ipython",
    "version": 3
   },
   "file_extension": ".py",
   "mimetype": "text/x-python",
   "name": "python",
   "nbconvert_exporter": "python",
   "pygments_lexer": "ipython3",
   "version": "3.13.2"
  }
 },
 "nbformat": 4,
 "nbformat_minor": 5
}
